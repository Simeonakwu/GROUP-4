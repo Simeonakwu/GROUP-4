{
 "cells": [
  {
   "cell_type": "markdown",
   "id": "64475a03",
   "metadata": {},
   "source": [
    "# SafeBristol: AI-Powered Crime Prediction & Safety Advisory\n",
    "\n",
    "This notebook aligns with the project proposal: all data is sourced from public APIs (UK Police, Met Office, TfL, user reports placeholder)."
   ]
  },
  {
   "cell_type": "code",
   "execution_count": 95,
   "id": "ded8683b",
   "metadata": {},
   "outputs": [],
   "source": [
    "# 1. Import Required Libraries\n",
    "import sys\n",
    "import time\n",
    "import datetime\n",
    "try:\n",
    "    import requests\n",
    "    import pandas as pd\n",
    "    import numpy as np\n",
    "    from sklearn.ensemble import RandomForestClassifier\n",
    "    from sklearn.model_selection import train_test_split\n",
    "    from sklearn.metrics import classification_report\n",
    "    import matplotlib.pyplot as plt\n",
    "    import seaborn as sns\n",
    "except ImportError as e:\n",
    "    print(f\"Missing package: {e.name}. Please install it and restart the kernel.\")\n",
    "    raise"
   ]
  },
  {
   "cell_type": "code",
   "execution_count": 96,
   "id": "24e58583",
   "metadata": {},
   "outputs": [
    {
     "name": "stdout",
     "output_type": "stream",
     "text": [
      "2022-05: 2333 records fetched.\n",
      "2022-06: 2262 records fetched.\n",
      "2022-06: 2262 records fetched.\n",
      "2022-07: 2444 records fetched.\n",
      "2022-07: 2444 records fetched.\n",
      "2022-08: 2415 records fetched.\n",
      "2022-08: 2415 records fetched.\n",
      "2022-09: 2344 records fetched.\n",
      "2022-09: 2344 records fetched.\n",
      "2022-10: 2428 records fetched.\n",
      "2022-10: 2428 records fetched.\n",
      "2022-11: 2231 records fetched.\n",
      "2022-11: 2231 records fetched.\n",
      "2022-12: 2065 records fetched.\n",
      "2022-12: 2065 records fetched.\n",
      "2023-01: 1993 records fetched.\n",
      "2023-01: 1993 records fetched.\n",
      "2023-02: 2144 records fetched.\n",
      "2023-02: 2144 records fetched.\n",
      "2023-03: 2359 records fetched.\n",
      "2023-03: 2359 records fetched.\n",
      "2023-04: 2369 records fetched.\n",
      "2023-04: 2369 records fetched.\n",
      "2023-05: 2450 records fetched.\n",
      "2023-05: 2450 records fetched.\n",
      "2023-06: 2207 records fetched.\n",
      "2023-06: 2207 records fetched.\n",
      "2023-07: 2301 records fetched.\n",
      "2023-07: 2301 records fetched.\n",
      "2023-08: 2274 records fetched.\n",
      "2023-08: 2274 records fetched.\n",
      "2023-09: 2207 records fetched.\n",
      "2023-09: 2207 records fetched.\n",
      "2023-10: 2361 records fetched.\n",
      "2023-10: 2361 records fetched.\n",
      "2023-11: 2218 records fetched.\n",
      "2023-11: 2218 records fetched.\n",
      "2023-12: 2236 records fetched.\n",
      "2023-12: 2236 records fetched.\n",
      "2024-01: 2234 records fetched.\n",
      "2024-01: 2234 records fetched.\n",
      "2024-02: 2142 records fetched.\n",
      "2024-02: 2142 records fetched.\n",
      "2024-03: 2431 records fetched.\n",
      "2024-03: 2431 records fetched.\n",
      "2024-04: 2502 records fetched.\n",
      "2024-04: 2502 records fetched.\n",
      "2024-05: 2581 records fetched.\n",
      "2024-05: 2581 records fetched.\n",
      "2024-06: 2338 records fetched.\n",
      "2024-06: 2338 records fetched.\n",
      "2024-07: 2485 records fetched.\n",
      "2024-07: 2485 records fetched.\n",
      "2024-08: 2712 records fetched.\n",
      "2024-08: 2712 records fetched.\n",
      "2024-09: 2287 records fetched.\n",
      "2024-09: 2287 records fetched.\n",
      "2024-10: 2592 records fetched.\n",
      "2024-10: 2592 records fetched.\n",
      "2024-11: 2193 records fetched.\n",
      "2024-11: 2193 records fetched.\n",
      "2024-12: 2027 records fetched.\n",
      "2024-12: 2027 records fetched.\n",
      "2025-01: 2175 records fetched.\n",
      "2025-01: 2175 records fetched.\n",
      "2025-02: 1961 records fetched.\n",
      "2025-02: 1961 records fetched.\n",
      "2025-03: 2200 records fetched.\n",
      "2025-03: 2200 records fetched.\n",
      "2025-04: 2231 records fetched.\n",
      "2025-04: 2231 records fetched.\n",
      "2025-05: 0 records fetched.\n",
      "2025-05: 0 records fetched.\n",
      "Total records from Jan 2015 to Jul 2025: 82732\n",
      "Total records from Jan 2015 to Jul 2025: 82732\n"
     ]
    }
   ],
   "source": [
    "# 2. Fetch Bristol Crime Data from UK Police API (2015-2025, polygon covers city)\n",
    "bristol_poly = '51.4645,-2.6200:51.4645,-2.5400:51.4300,-2.5400:51.4300,-2.6200'\n",
    "all_crimes = []\n",
    "start_year, start_month = 2015, 1\n",
    "end_year, end_month = 2025, 7\n",
    "api_url = 'https://data.police.uk/api/crimes-street/all-crime'\n",
    "for year in range(start_year, end_year + 1):\n",
    "    for month in range(1, 13):\n",
    "        if (year == start_year and month < start_month) or (year == end_year and month > end_month):\n",
    "            continue\n",
    "        date_str = f\"{year}-{month:02d}\"\n",
    "        params = {'poly': bristol_poly, 'date': date_str}\n",
    "        response = requests.get(api_url, params=params)\n",
    "        if response.status_code == 200:\n",
    "            crimes = response.json()\n",
    "            print(f\"{date_str}: {len(crimes)} records fetched.\")\n",
    "            all_crimes.extend(crimes)\n",
    "        elif response.status_code == 404:\n",
    "            # Skip months with no data (404), do not print or append anything\n",
    "            continue\n",
    "        else:\n",
    "            print(f\"{date_str}: Failed to fetch data. Status code: {response.status_code}\")\n",
    "            print('Response:', response.text)\n",
    "        time.sleep(1)\n",
    "# Remove None/null entries from all_crimes\n",
    "all_crimes = [c for c in all_crimes if c is not None]\n",
    "if all_crimes:\n",
    "    crimes_df = pd.DataFrame(all_crimes)\n",
    "    print(f\"Total records from Jan 2015 to Jul 2025: {len(crimes_df)}\")\n",
    "else:\n",
    "    crimes_df = pd.DataFrame()\n",
    "    print(\"No data fetched from Jan 2015 to Jul 2025.\")"
   ]
  },
  {
   "cell_type": "code",
   "execution_count": 97,
   "id": "772a6003",
   "metadata": {},
   "outputs": [
    {
     "name": "stdout",
     "output_type": "stream",
     "text": [
      "After cleaning, shape: (82732, 9)\n",
      "category                0\n",
      "location_type           0\n",
      "location                0\n",
      "context             82732\n",
      "outcome_status      12148\n",
      "persistent_id       12548\n",
      "id                      0\n",
      "location_subtype    82332\n",
      "month                   0\n",
      "dtype: int64\n"
     ]
    },
    {
     "name": "stderr",
     "output_type": "stream",
     "text": [
      "/var/folders/z8/fb1mrctx2vz53h8jwsr178dw0000gn/T/ipykernel_94190/3486696741.py:3: FutureWarning: Downcasting behavior in `replace` is deprecated and will be removed in a future version. To retain the old behavior, explicitly call `result.infer_objects(copy=False)`. To opt-in to the future behavior, set `pd.set_option('future.no_silent_downcasting', True)`\n",
      "  crimes_df = crimes_df.replace(r'^\\s*$', np.nan, regex=True)\n"
     ]
    }
   ],
   "source": [
    "# 3. Clean and Preprocess API Data\n",
    "if not crimes_df.empty:\n",
    "    crimes_df = crimes_df.replace(r'^\\s*$', np.nan, regex=True)\n",
    "    crimes_df = crimes_df.dropna(how='all')\n",
    "    print('After cleaning, shape:', crimes_df.shape)\n",
    "    print(crimes_df.isnull().sum())\n",
    "else:\n",
    "    print('crimes_df is empty, nothing to clean.')"
   ]
  },
  {
   "cell_type": "code",
   "execution_count": 98,
   "id": "54bbdd85",
   "metadata": {},
   "outputs": [
    {
     "name": "stdout",
     "output_type": "stream",
     "text": [
      "After feature engineering, shape: (82732, 13)\n"
     ]
    }
   ],
   "source": [
    "# 4. Feature Engineering (time, location, category)\n",
    "if not crimes_df.empty:\n",
    "    crimes_df['category_code'] = crimes_df['category'].astype('category').cat.codes\n",
    "    crimes_df['month'] = pd.to_datetime(crimes_df['month'], errors='coerce').dt.month.fillna(0).astype(int)\n",
    "    crimes_df['year'] = pd.to_datetime(crimes_df['month'], errors='coerce').dt.year.fillna(0).astype(int)\n",
    "    crimes_df['lat'] = crimes_df['location'].apply(lambda x: float(x['latitude']) if isinstance(x, dict) and x.get('latitude') else np.nan)\n",
    "    crimes_df['lng'] = crimes_df['location'].apply(lambda x: float(x['longitude']) if isinstance(x, dict) and x.get('longitude') else np.nan)\n",
    "    crimes_df = crimes_df.dropna(subset=['lat', 'lng'])\n",
    "    print('After feature engineering, shape:', crimes_df.shape)\n",
    "    crimes_df.head()\n",
    "else:\n",
    "    print('crimes_df is empty, nothing to feature engineer.')"
   ]
  },
  {
   "cell_type": "code",
   "execution_count": 99,
   "id": "709e81ec",
   "metadata": {},
   "outputs": [
    {
     "name": "stdout",
     "output_type": "stream",
     "text": [
      "Weather data integrated.\n"
     ]
    }
   ],
   "source": [
    "# 5. Integrate Weather Data (Met Office API)\n",
    "def fetch_weather_for_date(lat, lng, date, api_key='YOUR_API_KEY'):\n",
    "    # Example endpoint: https://api-metoffice.apiconnect.ibmcloud.com/v0/forecasts/point/hourly\n",
    "    # This is a placeholder; replace with real API call and parsing logic\n",
    "    # For demonstration, return random weather\n",
    "    return {'weather_condition': np.random.choice(['Clear', 'Rain', 'Cloudy', 'Fog']), 'temperature': np.random.normal(12, 4)}\n",
    "if not crimes_df.empty:\n",
    "    crimes_df['weather_condition'] = [fetch_weather_for_date(row['lat'], row['lng'], f\"{row['year']}-{row['month']:02d}\")['weather_condition'] for idx, row in crimes_df.iterrows()]\n",
    "    crimes_df['temperature'] = [fetch_weather_for_date(row['lat'], row['lng'], f\"{row['year']}-{row['month']:02d}\")['temperature'] for idx, row in crimes_df.iterrows()]\n",
    "    print('Weather data integrated.')\n",
    "else:\n",
    "    print('crimes_df is empty, cannot integrate weather data.')"
   ]
  },
  {
   "cell_type": "code",
   "execution_count": 100,
   "id": "b0b080f9",
   "metadata": {},
   "outputs": [
    {
     "name": "stdout",
     "output_type": "stream",
     "text": [
      "Transport safety data integrated.\n"
     ]
    }
   ],
   "source": [
    "# 6. Integrate Transport Data (TfL API)\n",
    "def fetch_tfl_safety_index(lat, lng, date, app_key='YOUR_TFL_APP_KEY'):\n",
    "    # Example endpoint: https://api.tfl.gov.uk/Line/Mode/tube,dlr,overground,elizabeth-line/Disruption\n",
    "    # This is a placeholder; replace with real API call and parsing logic\n",
    "    return np.random.uniform(0, 1)\n",
    "if not crimes_df.empty:\n",
    "    crimes_df['transport_safety_index'] = [fetch_tfl_safety_index(row['lat'], row['lng'], f\"{row['year']}-{row['month']:02d}\") for idx, row in crimes_df.iterrows()]\n",
    "    print('Transport safety data integrated.')\n",
    "else:\n",
    "    print('crimes_df is empty, cannot integrate transport data.')"
   ]
  },
  {
   "cell_type": "code",
   "execution_count": 101,
   "id": "77f416d5",
   "metadata": {},
   "outputs": [
    {
     "name": "stdout",
     "output_type": "stream",
     "text": [
      "User report data integrated.\n"
     ]
    }
   ],
   "source": [
    "# 7. User-Submitted Safety Reports (Placeholder for API)\n",
    "def fetch_user_reports(lat, lng, date):\n",
    "    # Placeholder: Replace with real backend call\n",
    "    return np.random.poisson(1)\n",
    "if not crimes_df.empty:\n",
    "    crimes_df['user_reports'] = [fetch_user_reports(row['lat'], row['lng'], f\"{row['year']}-{row['month']:02d}\") for idx, row in crimes_df.iterrows()]\n",
    "    print('User report data integrated.')\n",
    "else:\n",
    "    print('crimes_df is empty, cannot integrate user report data.')"
   ]
  },
  {
   "cell_type": "code",
   "execution_count": 102,
   "id": "00a42ffc",
   "metadata": {},
   "outputs": [
    {
     "name": "stdout",
     "output_type": "stream",
     "text": [
      "              precision    recall  f1-score   support\n",
      "\n",
      "           0       0.27      0.23      0.25      2438\n",
      "           1       0.10      0.01      0.02       515\n",
      "           2       0.06      0.01      0.01       623\n",
      "           3       0.13      0.03      0.05      1162\n",
      "           4       0.00      0.00      0.00       288\n",
      "           5       0.27      0.02      0.04       178\n",
      "           6       0.15      0.04      0.07      1249\n",
      "           7       0.00      0.00      0.00       110\n",
      "           8       0.13      0.05      0.08      1796\n",
      "           9       0.08      0.01      0.02       346\n",
      "          10       0.41      0.52      0.46      1415\n",
      "          11       0.00      0.00      0.00       185\n",
      "          12       0.26      0.09      0.14      1237\n",
      "          13       0.35      0.73      0.47      5005\n",
      "\n",
      "    accuracy                           0.32     16547\n",
      "   macro avg       0.16      0.13      0.11     16547\n",
      "weighted avg       0.24      0.32      0.25     16547\n",
      "\n"
     ]
    }
   ],
   "source": [
    "# 8. Machine Learning Model (Random Forest)\n",
    "if not crimes_df.empty:\n",
    "    features = ['lat', 'lng', 'month', 'year', 'temperature', 'transport_safety_index', 'user_reports']\n",
    "    crimes_df['weather_code'] = crimes_df['weather_condition'].astype('category').cat.codes\n",
    "    features.append('weather_code')\n",
    "    target = 'category_code'\n",
    "    X = crimes_df[features]\n",
    "    y = crimes_df[target]\n",
    "    X_train, X_test, y_train, y_test = train_test_split(X, y, test_size=0.2, random_state=42)\n",
    "    rf = RandomForestClassifier(n_estimators=100, random_state=42)\n",
    "    rf.fit(X_train, y_train)\n",
    "    y_pred = rf.predict(X_test)\n",
    "    print(classification_report(y_test, y_pred))\n",
    "else:\n",
    "    print('Not enough data for model training.')"
   ]
  },
  {
   "cell_type": "code",
   "execution_count": 103,
   "id": "97ad4f53",
   "metadata": {},
   "outputs": [
    {
     "name": "stderr",
     "output_type": "stream",
     "text": [
      "/Library/Frameworks/Python.framework/Versions/3.13/lib/python3.13/site-packages/xgboost/training.py:183: UserWarning: [19:18:16] WARNING: /Users/runner/work/xgboost/xgboost/src/learner.cc:738: \n",
      "Parameters: { \"use_label_encoder\" } are not used.\n",
      "\n",
      "  bst.update(dtrain, iteration=i, fobj=obj)\n"
     ]
    },
    {
     "name": "stdout",
     "output_type": "stream",
     "text": [
      "XGBoost Model Performance:\n",
      "              precision    recall  f1-score   support\n",
      "\n",
      "           0       0.32      0.22      0.26      2438\n",
      "           1       0.18      0.03      0.04       515\n",
      "           2       0.02      0.00      0.00       623\n",
      "           3       0.24      0.02      0.04      1162\n",
      "           4       0.00      0.00      0.00       288\n",
      "           5       0.24      0.02      0.04       178\n",
      "           6       0.18      0.02      0.03      1249\n",
      "           7       0.00      0.00      0.00       110\n",
      "           8       0.18      0.02      0.04      1796\n",
      "           9       0.00      0.00      0.00       346\n",
      "          10       0.40      0.69      0.50      1415\n",
      "          11       0.00      0.00      0.00       185\n",
      "          12       0.31      0.14      0.19      1237\n",
      "          13       0.35      0.80      0.49      5005\n",
      "\n",
      "    accuracy                           0.35     16547\n",
      "   macro avg       0.17      0.14      0.12     16547\n",
      "weighted avg       0.27      0.35      0.26     16547\n",
      "\n"
     ]
    }
   ],
   "source": [
    "# 9. Advanced ML Model (XGBoost, optional)\n",
    "try:\n",
    "    import xgboost\n",
    "    from xgboost import XGBClassifier\n",
    "    if not crimes_df.empty:\n",
    "        xgb = XGBClassifier(use_label_encoder=False, eval_metric='mlogloss')\n",
    "        xgb.fit(X_train, y_train)\n",
    "        y_pred_xgb = xgb.predict(X_test)\n",
    "        print('XGBoost Model Performance:')\n",
    "        print(classification_report(y_test, y_pred_xgb))\n",
    "except ImportError:\n",
    "    import sys\n",
    "    import subprocess\n",
    "    print('XGBoost not found. Installing...')\n",
    "    subprocess.check_call([sys.executable, '-m', 'pip', 'install', 'xgboost'])\n",
    "    import xgboost\n",
    "    from xgboost import XGBClassifier\n",
    "    if not crimes_df.empty:\n",
    "        xgb = XGBClassifier(use_label_encoder=False, eval_metric='mlogloss')\n",
    "        xgb.fit(X_train, y_train)\n",
    "        y_pred_xgb = xgb.predict(X_test)\n",
    "        print('XGBoost Model Performance:')\n",
    "        print(classification_report(y_test, y_pred_xgb))"
   ]
  },
  {
   "cell_type": "code",
   "execution_count": 104,
   "id": "c111ff05",
   "metadata": {},
   "outputs": [
    {
     "data": {
      "image/png": "[encoded data removed]",
      "text/plain": [
       "<Figure size 1000x600 with 1 Axes>"
      ]
     },
     "metadata": {},
     "output_type": "display_data"
    }
   ],
   "source": [
    "# 10. Visualize Crime Hotspots (Heatmap)\n",
    "if not crimes_df.empty:\n",
    "    plt.figure(figsize=(10, 6))\n",
    "    sns.kdeplot(x=crimes_df['lng'], y=crimes_df['lat'], cmap='Reds', fill=True, thresh=0.05)\n",
    "    plt.title('Bristol Crime Hotspots')\n",
    "    plt.xlabel('Longitude')\n",
    "    plt.ylabel('Latitude')\n",
    "    plt.show()\n",
    "else:\n",
    "    print('No geolocation data available for heatmap.')"
   ]
  },
  {
   "cell_type": "code",
   "execution_count": 105,
   "id": "47ddd28a",
   "metadata": {},
   "outputs": [
    {
     "name": "stdout",
     "output_type": "stream",
     "text": [
      "\n",
      "Next Steps:\n",
      "- Integrate real weather, transport, and user report APIs.\n",
      "- Use predictions for real-time safety alerts and safe route planning.\n",
      "- Connect outputs to the SafeBristol app backend.\n",
      "\n"
     ]
    }
   ],
   "source": [
    "# 11. Next Steps & Integration\n",
    "print('''\\nNext Steps:\\n- Integrate real weather, transport, and user report APIs.\\n- Use predictions for real-time safety alerts and safe route planning.\\n- Connect outputs to the SafeBristol app backend.\\n''')"
   ]
  },
  {
   "cell_type": "code",
   "execution_count": 106,
   "id": "7c4337b5",
   "metadata": {},
   "outputs": [
    {
     "name": "stdout",
     "output_type": "stream",
     "text": [
      "Top 10 Wards by Crime Count:\n",
      "Series([], Name: count, dtype: int64)\n",
      "\n",
      "Top 10 Streets by Crime Count:\n",
      "street_name\n",
      "On or near                         5374\n",
      "On or near Nightclub               3171\n",
      "On or near Parking Area            2418\n",
      "On or near Supermarket             1767\n",
      "On or near Shopping Area           1519\n",
      "On or near Callowhill Court        1044\n",
      "On or near Cannon Street            985\n",
      "On or near The Horsefair            974\n",
      "On or near Marsh Street             930\n",
      "On or near Theatre/concert Hall     784\n",
      "Name: count, dtype: int64\n"
     ]
    },
    {
     "ename": "IndexError",
     "evalue": "index 0 is out of bounds for axis 0 with size 0",
     "output_type": "error",
     "traceback": [
      "\u001b[31m---------------------------------------------------------------------------\u001b[39m",
      "\u001b[31mIndexError\u001b[39m                                Traceback (most recent call last)",
      "\u001b[36mCell\u001b[39m\u001b[36m \u001b[39m\u001b[32mIn[106]\u001b[39m\u001b[32m, line 16\u001b[39m\n\u001b[32m     14\u001b[39m \u001b[38;5;66;03m# Visualization: Top 10 wards\u001b[39;00m\n\u001b[32m     15\u001b[39m plt.figure(figsize=(\u001b[32m12\u001b[39m, \u001b[32m6\u001b[39m))\n\u001b[32m---> \u001b[39m\u001b[32m16\u001b[39m \u001b[43mward_counts\u001b[49m\u001b[43m.\u001b[49m\u001b[43mhead\u001b[49m\u001b[43m(\u001b[49m\u001b[32;43m10\u001b[39;49m\u001b[43m)\u001b[49m\u001b[43m.\u001b[49m\u001b[43mplot\u001b[49m\u001b[43m(\u001b[49m\u001b[43mkind\u001b[49m\u001b[43m=\u001b[49m\u001b[33;43m'\u001b[39;49m\u001b[33;43mbar\u001b[39;49m\u001b[33;43m'\u001b[39;49m\u001b[43m,\u001b[49m\u001b[43m \u001b[49m\u001b[43mcolor\u001b[49m\u001b[43m=\u001b[49m\u001b[33;43m'\u001b[39;49m\u001b[33;43mskyblue\u001b[39;49m\u001b[33;43m'\u001b[39;49m\u001b[43m)\u001b[49m\n\u001b[32m     17\u001b[39m plt.title(\u001b[33m'\u001b[39m\u001b[33mTop 10 Wards by Crime Count\u001b[39m\u001b[33m'\u001b[39m)\n\u001b[32m     18\u001b[39m plt.xlabel(\u001b[33m'\u001b[39m\u001b[33mWard\u001b[39m\u001b[33m'\u001b[39m)\n",
      "\u001b[36mFile \u001b[39m\u001b[32m/Library/Frameworks/Python.framework/Versions/3.13/lib/python3.13/site-packages/pandas/plotting/_core.py:1030\u001b[39m, in \u001b[36mPlotAccessor.__call__\u001b[39m\u001b[34m(self, *args, **kwargs)\u001b[39m\n\u001b[32m   1027\u001b[39m             label_name = label_kw \u001b[38;5;129;01mor\u001b[39;00m data.columns\n\u001b[32m   1028\u001b[39m             data.columns = label_name\n\u001b[32m-> \u001b[39m\u001b[32m1030\u001b[39m \u001b[38;5;28;01mreturn\u001b[39;00m \u001b[43mplot_backend\u001b[49m\u001b[43m.\u001b[49m\u001b[43mplot\u001b[49m\u001b[43m(\u001b[49m\u001b[43mdata\u001b[49m\u001b[43m,\u001b[49m\u001b[43m \u001b[49m\u001b[43mkind\u001b[49m\u001b[43m=\u001b[49m\u001b[43mkind\u001b[49m\u001b[43m,\u001b[49m\u001b[43m \u001b[49m\u001b[43m*\u001b[49m\u001b[43m*\u001b[49m\u001b[43mkwargs\u001b[49m\u001b[43m)\u001b[49m\n",
      "\u001b[36mFile \u001b[39m\u001b[32m/Library/Frameworks/Python.framework/Versions/3.13/lib/python3.13/site-packages/pandas/plotting/_matplotlib/__init__.py:71\u001b[39m, in \u001b[36mplot\u001b[39m\u001b[34m(data, kind, **kwargs)\u001b[39m\n\u001b[32m     69\u001b[39m         kwargs[\u001b[33m\"\u001b[39m\u001b[33max\u001b[39m\u001b[33m\"\u001b[39m] = \u001b[38;5;28mgetattr\u001b[39m(ax, \u001b[33m\"\u001b[39m\u001b[33mleft_ax\u001b[39m\u001b[33m\"\u001b[39m, ax)\n\u001b[32m     70\u001b[39m plot_obj = PLOT_CLASSES[kind](data, **kwargs)\n\u001b[32m---> \u001b[39m\u001b[32m71\u001b[39m \u001b[43mplot_obj\u001b[49m\u001b[43m.\u001b[49m\u001b[43mgenerate\u001b[49m\u001b[43m(\u001b[49m\u001b[43m)\u001b[49m\n\u001b[32m     72\u001b[39m plot_obj.draw()\n\u001b[32m     73\u001b[39m \u001b[38;5;28;01mreturn\u001b[39;00m plot_obj.result\n",
      "\u001b[36mFile \u001b[39m\u001b[32m/Library/Frameworks/Python.framework/Versions/3.13/lib/python3.13/site-packages/pandas/plotting/_matplotlib/core.py:508\u001b[39m, in \u001b[36mMPLPlot.generate\u001b[39m\u001b[34m(self)\u001b[39m\n\u001b[32m    506\u001b[39m \u001b[38;5;28;01mfor\u001b[39;00m ax \u001b[38;5;129;01min\u001b[39;00m \u001b[38;5;28mself\u001b[39m.axes:\n\u001b[32m    507\u001b[39m     \u001b[38;5;28mself\u001b[39m._post_plot_logic_common(ax)\n\u001b[32m--> \u001b[39m\u001b[32m508\u001b[39m     \u001b[38;5;28;43mself\u001b[39;49m\u001b[43m.\u001b[49m\u001b[43m_post_plot_logic\u001b[49m\u001b[43m(\u001b[49m\u001b[43max\u001b[49m\u001b[43m,\u001b[49m\u001b[43m \u001b[49m\u001b[38;5;28;43mself\u001b[39;49m\u001b[43m.\u001b[49m\u001b[43mdata\u001b[49m\u001b[43m)\u001b[49m\n",
      "\u001b[36mFile \u001b[39m\u001b[32m/Library/Frameworks/Python.framework/Versions/3.13/lib/python3.13/site-packages/pandas/plotting/_matplotlib/core.py:1972\u001b[39m, in \u001b[36mBarPlot._post_plot_logic\u001b[39m\u001b[34m(self, ax, data)\u001b[39m\n\u001b[32m   1969\u001b[39m \u001b[38;5;28;01melse\u001b[39;00m:\n\u001b[32m   1970\u001b[39m     str_index = [pprint_thing(key) \u001b[38;5;28;01mfor\u001b[39;00m key \u001b[38;5;129;01min\u001b[39;00m \u001b[38;5;28mrange\u001b[39m(data.shape[\u001b[32m0\u001b[39m])]\n\u001b[32m-> \u001b[39m\u001b[32m1972\u001b[39m s_edge = \u001b[38;5;28;43mself\u001b[39;49m\u001b[43m.\u001b[49m\u001b[43max_pos\u001b[49m\u001b[43m[\u001b[49m\u001b[32;43m0\u001b[39;49m\u001b[43m]\u001b[49m - \u001b[32m0.25\u001b[39m + \u001b[38;5;28mself\u001b[39m.lim_offset\n\u001b[32m   1973\u001b[39m e_edge = \u001b[38;5;28mself\u001b[39m.ax_pos[-\u001b[32m1\u001b[39m] + \u001b[32m0.25\u001b[39m + \u001b[38;5;28mself\u001b[39m.bar_width + \u001b[38;5;28mself\u001b[39m.lim_offset\n\u001b[32m   1975\u001b[39m \u001b[38;5;28mself\u001b[39m._decorate_ticks(ax, \u001b[38;5;28mself\u001b[39m._get_index_name(), str_index, s_edge, e_edge)\n",
      "\u001b[31mIndexError\u001b[39m: index 0 is out of bounds for axis 0 with size 0"
     ]
    },
    {
     "data": {
      "image/png": "[encoded data removed]",
      "text/plain": [
       "<Figure size 1200x600 with 1 Axes>"
      ]
     },
     "metadata": {},
     "output_type": "display_data"
    }
   ],
   "source": [
    "# 12. Analysis by Wards and Streets in Bristol\n",
    "if not crimes_df.empty:\n",
    "    # Extract ward and street information if available\n",
    "    crimes_df['ward'] = crimes_df['location'].apply(lambda x: x.get('ward', None) if isinstance(x, dict) else None)\n",
    "    crimes_df['street_name'] = crimes_df['location'].apply(lambda x: x['street']['name'] if isinstance(x, dict) and x.get('street') and x['street'].get('name') else None)\n",
    "    # Analysis: Crime count by ward\n",
    "    ward_counts = crimes_df['ward'].value_counts(dropna=True)\n",
    "    print('Top 10 Wards by Crime Count:')\n",
    "    print(ward_counts.head(10))\n",
    "    # Analysis: Crime count by street\n",
    "    street_counts = crimes_df['street_name'].value_counts(dropna=True)\n",
    "    print('\\nTop 10 Streets by Crime Count:')\n",
    "    print(street_counts.head(10))\n",
    "    # Visualization: Top 10 wards\n",
    "    plt.figure(figsize=(12, 6))\n",
    "    ward_counts.head(10).plot(kind='bar', color='skyblue')\n",
    "    plt.title('Top 10 Wards by Crime Count')\n",
    "    plt.xlabel('Ward')\n",
    "    plt.ylabel('Number of Crimes')\n",
    "    plt.show()\n",
    "    # Visualization: Top 10 streets\n",
    "    plt.figure(figsize=(12, 6))\n",
    "    street_counts.head(10).plot(kind='bar', color='salmon')\n",
    "    plt.title('Top 10 Streets by Crime Count')\n",
    "    plt.xlabel('Street')\n",
    "    plt.ylabel('Number of Crimes')\n",
    "    plt.show()\n",
    "else:\n",
    "    print('crimes_df is empty, cannot analyze by ward or street.')"
   ]
  },
  {
   "cell_type": "code",
   "execution_count": null,
   "id": "0d24d878",
   "metadata": {},
   "outputs": [
    {
     "ename": "ModuleNotFoundError",
     "evalue": "No module named 'streamlit'",
     "output_type": "error",
     "traceback": [
      "\u001b[31m---------------------------------------------------------------------------\u001b[39m",
      "\u001b[31mModuleNotFoundError\u001b[39m                       Traceback (most recent call last)",
      "\u001b[36mCell\u001b[39m\u001b[36m \u001b[39m\u001b[32mIn[94]\u001b[39m\u001b[32m, line 3\u001b[39m\n\u001b[32m      1\u001b[39m \u001b[38;5;66;03m# Streamlit Dashboard for SafeBristol Visualization\u001b[39;00m\n\u001b[32m      2\u001b[39m \u001b[38;5;66;03m# To run: Save this as app.py and run `streamlit run app.py` in your terminal\u001b[39;00m\n\u001b[32m----> \u001b[39m\u001b[32m3\u001b[39m \u001b[38;5;28;01mimport\u001b[39;00m\u001b[38;5;250m \u001b[39m\u001b[34;01mstreamlit\u001b[39;00m\u001b[38;5;250m \u001b[39m\u001b[38;5;28;01mas\u001b[39;00m\u001b[38;5;250m \u001b[39m\u001b[34;01mst\u001b[39;00m\n\u001b[32m      4\u001b[39m \u001b[38;5;28;01mimport\u001b[39;00m\u001b[38;5;250m \u001b[39m\u001b[34;01mpandas\u001b[39;00m\u001b[38;5;250m \u001b[39m\u001b[38;5;28;01mas\u001b[39;00m\u001b[38;5;250m \u001b[39m\u001b[34;01mpd\u001b[39;00m\n\u001b[32m      5\u001b[39m \u001b[38;5;28;01mimport\u001b[39;00m\u001b[38;5;250m \u001b[39m\u001b[34;01mnumpy\u001b[39;00m\u001b[38;5;250m \u001b[39m\u001b[38;5;28;01mas\u001b[39;00m\u001b[38;5;250m \u001b[39m\u001b[34;01mnp\u001b[39;00m\n",
      "\u001b[31mModuleNotFoundError\u001b[39m: No module named 'streamlit'"
     ]
    }
   ],
   "source": [
    "# Streamlit Dashboard for SafeBristol Visualization\n",
    "# To run: Save this as app.py and run `streamlit run app.py` in your terminal\n",
    "import streamlit as st\n",
    "import pandas as pd\n",
    "import numpy as np\n",
    "import matplotlib.pyplot as plt\n",
    "import seaborn as sns\n",
    "\n",
    "st.set_page_config(page_title=\"SafeBristol Crime Dashboard\", layout=\"wide\")\n",
    "st.title(\"SafeBristol: Crime Prediction & Safety Dashboard\")\n",
    "\n",
    "# Load data (assume crimes_df is available or load from a CSV/parquet if needed)\n",
    "# For demonstration, you can save crimes_df to a CSV and load here:\n",
    "# crimes_df = pd.read_csv('crimes_api_all_df.csv')\n",
    "\n",
    "# Sidebar filters\n",
    "st.sidebar.header(\"Filters\")\n",
    "ward_filter = st.sidebar.text_input(\"Ward (leave blank for all)\")\n",
    "street_filter = st.sidebar.text_input(\"Street (leave blank for all)\")\n",
    "category_filter = st.sidebar.text_input(\"Crime Category (leave blank for all)\")\n",
    "\n",
    "# Filter data\n",
    "df = crimes_df.copy() if 'crimes_df' in globals() else pd.DataFrame()\n",
    "if not df.empty:\n",
    "    if ward_filter:\n",
    "        df = df[df['ward'].str.contains(ward_filter, na=False, case=False)]\n",
    "    if street_filter:\n",
    "        df = df[df['street_name'].str.contains(street_filter, na=False, case=False)]\n",
    "    if category_filter:\n",
    "        df = df[df['category'].str.contains(category_filter, na=False, case=False)]\n",
    "\n",
    "    st.subheader(\"Crime Hotspots (Heatmap)\")\n",
    "    fig, ax = plt.subplots(figsize=(10, 6))\n",
    "    sns.kdeplot(x=df['lng'], y=df['lat'], cmap='Reds', fill=True, thresh=0.05, ax=ax)\n",
    "    ax.set_title('Bristol Crime Hotspots')\n",
    "    ax.set_xlabel('Longitude')\n",
    "    ax.set_ylabel('Latitude')\n",
    "    st.pyplot(fig)\n",
    "\n",
    "    st.subheader(\"Top 10 Wards by Crime Count\")\n",
    "    ward_counts = df['ward'].value_counts().head(10)\n",
    "    st.bar_chart(ward_counts)\n",
    "\n",
    "    st.subheader(\"Top 10 Streets by Crime Count\")\n",
    "    street_counts = df['street_name'].value_counts().head(10)\n",
    "    st.bar_chart(street_counts)\n",
    "\n",
    "    st.subheader(\"Crime Category Distribution\")\n",
    "    category_counts = df['category'].value_counts().head(10)\n",
    "    st.bar_chart(category_counts)\n",
    "\n",
    "    st.subheader(\"Raw Data Preview\")\n",
    "    st.dataframe(df.head(100))\n",
    "else:\n",
    "    st.warning(\"No crime data available. Please ensure crimes_df is loaded.\")"
   ]
  }
 ],
 "metadata": {
  "kernelspec": {
   "display_name": "Python 3",
   "language": "python",
   "name": "python3"
  },
  "language_info": {
   "codemirror_mode": {
    "name": "ipython",
    "version": 3
   },
   "file_extension": ".py",
   "mimetype": "text/x-python",
   "name": "python",
   "nbconvert_exporter": "python",
   "pygments_lexer": "ipython3",
   "version": "3.13.1"
  }
 },
 "nbformat": 4,
 "nbformat_minor": 5
}
